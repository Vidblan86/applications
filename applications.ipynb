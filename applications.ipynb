{
  "cells": [
    {
      "cell_type": "markdown",
      "metadata": {
        "id": "view-in-github",
        "colab_type": "text"
      },
      "source": [
        "<a href=\"https://colab.research.google.com/github/Vidblan86/applications/blob/main/applications.ipynb\" target=\"_parent\"><img src=\"https://colab.research.google.com/assets/colab-badge.svg\" alt=\"Open In Colab\"/></a>"
      ]
    },
    {
      "cell_type": "code",
      "source": [
        "# Instalar dependencias (solo la primera vez)\n",
        "!pip install gspread oauth2client gspread-dataframe requests beautifulsoup4 pandas\n",
        "\n",
        "# 1. Montar Google Drive\n",
        "from google.colab import drive\n",
        "drive.mount('/content/drive')\n",
        "\n",
        "# 2. Imports y autenticación\n",
        "import json, pandas as pd, requests, string\n",
        "from bs4 import BeautifulSoup\n",
        "from datetime import datetime\n",
        "import gspread\n",
        "from gspread_dataframe import get_as_dataframe, set_with_dataframe\n",
        "\n",
        "# Leer credenciales desde Drive\n",
        "with open('/content/drive/MyDrive/00_Job_Search_UK/credentials.json') as f:\n",
        "    creds_dict = json.load(f)\n",
        "gc = gspread.service_account_from_dict(creds_dict)\n",
        "\n",
        "# 3. Abrir Google Sheet\n",
        "SHEET_ID = '1vsfOz8lPxG58n6kl9fnzCX0y_wmcirhVhHOZWbzeBGw'\n",
        "sh = gc.open_by_key(SHEET_ID)\n",
        "ws = sh.sheet1\n",
        "\n",
        "# 4. Cargar datos en DataFrame\n",
        "df = get_as_dataframe(ws, evaluate_formulas=True, skip_blank_rows=False)\n",
        "\n",
        "# 5. Asegurar columna 'state' y marcar nuevas filas\n",
        "if 'state' not in df.columns:\n",
        "    df['state'] = 0                # inicializamos todo a 0\n",
        "else:\n",
        "    df['state'] = df['state'].fillna(0).astype(int)\n",
        "\n",
        "# Máscara de filas sin descripción, company y title\n",
        "mask = (\n",
        "    df['link'].notna() &\n",
        "    df['description'].isna() &\n",
        "    df['company'].isna() &\n",
        "    df['title'].isna()\n",
        ")\n",
        "df.loc[mask, 'state'] = 1         # marcamos con 1 las nuevas filas a procesar\n",
        "\n",
        "# 6. Procesar filas nuevas (state == 1)\n",
        "rows_to_process = df[mask]\n",
        "today = datetime.now().strftime('%Y-%m-%d')\n",
        "for idx, row in rows_to_process.iterrows():\n",
        "    url = row['link']\n",
        "    try:\n",
        "        resp = requests.get(url, timeout=10)\n",
        "        soup = BeautifulSoup(resp.text, 'html.parser')\n",
        "        # Extraer campos\n",
        "        title = soup.title.string.strip() if soup.title and soup.title.string else ''\n",
        "        desc_tag = soup.find('meta', attrs={'name':'description'})\n",
        "        description = desc_tag['content'].strip() if desc_tag and desc_tag.get('content') else ''\n",
        "        comp_tag = soup.find('meta', attrs={'property':'og:site_name'})\n",
        "        company = comp_tag['content'].strip() if comp_tag and comp_tag.get('content') else ''\n",
        "        # Asignar al DataFrame\n",
        "        df.at[idx, 'title'] = title\n",
        "        df.at[idx, 'description'] = description\n",
        "        df.at[idx, 'company'] = company\n",
        "        df.at[idx, 'last_modified'] = today\n",
        "    except Exception as e:\n",
        "        print(f\"Error fila {idx} ({url}): {e}\")\n",
        "\n",
        "# 7. Sobrescribir la Sheet con datos actualizados\n",
        "ws.clear()\n",
        "set_with_dataframe(ws, df)\n",
        "\n",
        "# 8. Aplicar tachado a filas descartadas (state != 1)\n",
        "ncols = df.shape[1]\n",
        "end_col = list(string.ascii_uppercase)[ncols - 1]\n",
        "for idx in df[df['state'] != 1].index:\n",
        "    row_num = idx + 2  # +2 porque la fila 1 son encabezados\n",
        "    cell_range = f\"A{row_num}:{end_col}{row_num}\"\n",
        "    ws.format(cell_range, {\"textFormat\": {\"strikethrough\": True}})\n",
        "\n",
        "print(\"Script completado: datos extraídos, Sheet actualizada y filas descartadas tachadas.\")\n"
      ],
      "metadata": {
        "colab": {
          "base_uri": "https://localhost:8080/"
        },
        "id": "537ChBzM9O_x",
        "outputId": "a10071c1-8fa7-483c-efa7-8dc580125538"
      },
      "id": "537ChBzM9O_x",
      "execution_count": 54,
      "outputs": [
        {
          "output_type": "stream",
          "name": "stdout",
          "text": [
            "Requirement already satisfied: gspread in /usr/local/lib/python3.11/dist-packages (6.2.1)\n",
            "Requirement already satisfied: oauth2client in /usr/local/lib/python3.11/dist-packages (4.1.3)\n",
            "Requirement already satisfied: gspread-dataframe in /usr/local/lib/python3.11/dist-packages (4.0.0)\n",
            "Requirement already satisfied: requests in /usr/local/lib/python3.11/dist-packages (2.32.3)\n",
            "Requirement already satisfied: beautifulsoup4 in /usr/local/lib/python3.11/dist-packages (4.13.4)\n",
            "Requirement already satisfied: pandas in /usr/local/lib/python3.11/dist-packages (2.2.2)\n",
            "Requirement already satisfied: google-auth>=1.12.0 in /usr/local/lib/python3.11/dist-packages (from gspread) (2.38.0)\n",
            "Requirement already satisfied: google-auth-oauthlib>=0.4.1 in /usr/local/lib/python3.11/dist-packages (from gspread) (1.2.2)\n",
            "Requirement already satisfied: httplib2>=0.9.1 in /usr/local/lib/python3.11/dist-packages (from oauth2client) (0.22.0)\n",
            "Requirement already satisfied: pyasn1>=0.1.7 in /usr/local/lib/python3.11/dist-packages (from oauth2client) (0.6.1)\n",
            "Requirement already satisfied: pyasn1-modules>=0.0.5 in /usr/local/lib/python3.11/dist-packages (from oauth2client) (0.4.2)\n",
            "Requirement already satisfied: rsa>=3.1.4 in /usr/local/lib/python3.11/dist-packages (from oauth2client) (4.9.1)\n",
            "Requirement already satisfied: six>=1.6.1 in /usr/local/lib/python3.11/dist-packages (from oauth2client) (1.17.0)\n",
            "Requirement already satisfied: charset-normalizer<4,>=2 in /usr/local/lib/python3.11/dist-packages (from requests) (3.4.2)\n",
            "Requirement already satisfied: idna<4,>=2.5 in /usr/local/lib/python3.11/dist-packages (from requests) (3.10)\n",
            "Requirement already satisfied: urllib3<3,>=1.21.1 in /usr/local/lib/python3.11/dist-packages (from requests) (2.4.0)\n",
            "Requirement already satisfied: certifi>=2017.4.17 in /usr/local/lib/python3.11/dist-packages (from requests) (2025.4.26)\n",
            "Requirement already satisfied: soupsieve>1.2 in /usr/local/lib/python3.11/dist-packages (from beautifulsoup4) (2.7)\n",
            "Requirement already satisfied: typing-extensions>=4.0.0 in /usr/local/lib/python3.11/dist-packages (from beautifulsoup4) (4.13.2)\n",
            "Requirement already satisfied: numpy>=1.23.2 in /usr/local/lib/python3.11/dist-packages (from pandas) (2.0.2)\n",
            "Requirement already satisfied: python-dateutil>=2.8.2 in /usr/local/lib/python3.11/dist-packages (from pandas) (2.9.0.post0)\n",
            "Requirement already satisfied: pytz>=2020.1 in /usr/local/lib/python3.11/dist-packages (from pandas) (2025.2)\n",
            "Requirement already satisfied: tzdata>=2022.7 in /usr/local/lib/python3.11/dist-packages (from pandas) (2025.2)\n",
            "Requirement already satisfied: cachetools<6.0,>=2.0.0 in /usr/local/lib/python3.11/dist-packages (from google-auth>=1.12.0->gspread) (5.5.2)\n",
            "Requirement already satisfied: requests-oauthlib>=0.7.0 in /usr/local/lib/python3.11/dist-packages (from google-auth-oauthlib>=0.4.1->gspread) (2.0.0)\n",
            "Requirement already satisfied: pyparsing!=3.0.0,!=3.0.1,!=3.0.2,!=3.0.3,<4,>=2.4.2 in /usr/local/lib/python3.11/dist-packages (from httplib2>=0.9.1->oauth2client) (3.2.3)\n",
            "Requirement already satisfied: oauthlib>=3.0.0 in /usr/local/lib/python3.11/dist-packages (from requests-oauthlib>=0.7.0->google-auth-oauthlib>=0.4.1->gspread) (3.2.2)\n",
            "Drive already mounted at /content/drive; to attempt to forcibly remount, call drive.mount(\"/content/drive\", force_remount=True).\n",
            "Script completado: datos extraídos, Sheet actualizada y filas descartadas tachadas.\n"
          ]
        }
      ]
    }
  ],
  "metadata": {
    "kernelspec": {
      "display_name": "base",
      "language": "python",
      "name": "python3"
    },
    "language_info": {
      "codemirror_mode": {
        "name": "ipython",
        "version": 3
      },
      "file_extension": ".py",
      "mimetype": "text/x-python",
      "name": "python",
      "nbconvert_exporter": "python",
      "pygments_lexer": "ipython3",
      "version": "3.12.7"
    },
    "colab": {
      "provenance": [],
      "include_colab_link": true
    }
  },
  "nbformat": 4,
  "nbformat_minor": 5
}